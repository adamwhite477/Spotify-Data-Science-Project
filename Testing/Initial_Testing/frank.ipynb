{
 "cells": [
  {
   "cell_type": "code",
   "execution_count": 1,
   "metadata": {},
   "outputs": [],
   "source": [
    "import spotipy\n",
    "from spotipy.oauth2 import SpotifyClientCredentials\n",
    "import json\n",
    "\n",
    "with open(\"credentials.json\") as infile:\n",
    "        auth = json.load(infile)\n",
    "        client_id = auth[\"client_id\"]\n",
    "        client_secret = auth[\"client_secret\"]\n",
    "\n",
    "spotify = spotipy.Spotify(client_credentials_manager=SpotifyClientCredentials(client_id=client_id, client_secret=client_secret))\n",
    "\n",
    "frank_ocean_uri = \"spotify:artist:2h93pZq0e7k5yf4dywlkpM\""
   ]
  },
  {
   "cell_type": "code",
   "execution_count": 2,
   "metadata": {},
   "outputs": [
    {
     "data": {
      "text/plain": [
       "{'external_urls': {'spotify': 'https://open.spotify.com/artist/2h93pZq0e7k5yf4dywlkpM'},\n",
       " 'followers': {'href': None, 'total': 10895963},\n",
       " 'genres': ['lgbtq+ hip hop', 'neo soul', 'pop'],\n",
       " 'href': 'https://api.spotify.com/v1/artists/2h93pZq0e7k5yf4dywlkpM',\n",
       " 'id': '2h93pZq0e7k5yf4dywlkpM',\n",
       " 'images': [{'height': 640,\n",
       "   'url': 'https://i.scdn.co/image/ab6761610000e5ebfbc3faec4a370d8393bee7f1',\n",
       "   'width': 640},\n",
       "  {'height': 320,\n",
       "   'url': 'https://i.scdn.co/image/ab67616100005174fbc3faec4a370d8393bee7f1',\n",
       "   'width': 320},\n",
       "  {'height': 160,\n",
       "   'url': 'https://i.scdn.co/image/ab6761610000f178fbc3faec4a370d8393bee7f1',\n",
       "   'width': 160}],\n",
       " 'name': 'Frank Ocean',\n",
       " 'popularity': 84,\n",
       " 'type': 'artist',\n",
       " 'uri': 'spotify:artist:2h93pZq0e7k5yf4dywlkpM'}"
      ]
     },
     "execution_count": 2,
     "metadata": {},
     "output_type": "execute_result"
    }
   ],
   "source": [
    "frank = spotify.artist(frank_ocean_uri)\n",
    "frank"
   ]
  },
  {
   "cell_type": "code",
   "execution_count": 31,
   "metadata": {},
   "outputs": [],
   "source": [
    "artists = []\n",
    "for i in range(0,600,50):\n",
    "    track_results = spotify.search(q='artist:\"frank ocean\" year:2023', type='track', limit=50,offset=i)\n",
    "    for track in track_results[\"tracks\"][\"items\"]:\n",
    "        print(track[\"name\"])"
   ]
  },
  {
   "cell_type": "code",
   "execution_count": 9,
   "metadata": {},
   "outputs": [
    {
     "name": "stdout",
     "output_type": "stream",
     "text": [
      "Blonde\n",
      "channel ORANGE\n",
      "Cayendo (Side A - Acoustic)\n",
      "Dear April (Side A - Acoustic)\n",
      "In My Room\n",
      "In My Room\n",
      "DHL\n",
      "DHL\n",
      "Moon River\n",
      "Provider\n",
      "Biking (Solo)\n",
      "Lens\n",
      "Biking\n",
      "Chanel\n",
      "Thinkin Bout You\n",
      "Novacane\n",
      "Novacane\n",
      "Swim Good\n",
      "Ultimate Summer Mix / Top Hits\n",
      "Glad Musik\n"
     ]
    }
   ],
   "source": [
    "frank_albums = spotify.artist_albums(frank_ocean_uri)\n",
    "for album in frank_albums[\"items\"]:\n",
    "    print(album[\"name\"])\n",
    "    pass\n"
   ]
  },
  {
   "cell_type": "code",
   "execution_count": null,
   "metadata": {},
   "outputs": [],
   "source": []
  }
 ],
 "metadata": {
  "kernelspec": {
   "display_name": "base",
   "language": "python",
   "name": "python3"
  },
  "language_info": {
   "codemirror_mode": {
    "name": "ipython",
    "version": 3
   },
   "file_extension": ".py",
   "mimetype": "text/x-python",
   "name": "python",
   "nbconvert_exporter": "python",
   "pygments_lexer": "ipython3",
   "version": "3.9.12"
  },
  "orig_nbformat": 4
 },
 "nbformat": 4,
 "nbformat_minor": 2
}
