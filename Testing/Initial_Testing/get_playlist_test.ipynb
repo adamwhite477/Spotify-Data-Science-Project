{
 "cells": [
  {
   "cell_type": "code",
   "execution_count": 1,
   "metadata": {},
   "outputs": [],
   "source": [
    "import spotipy\n",
    "import pandas as pd\n",
    "from spotipy.oauth2 import SpotifyClientCredentials\n",
    "import json\n",
    "\n",
    "\n",
    "\n",
    "with open(\"credentials.json\") as infile:\n",
    "        auth = json.load(infile)\n",
    "        client_id = auth[\"client_id\"]\n",
    "        client_secret = auth[\"client_secret\"]\n",
    "\n",
    "spotify = spotipy.Spotify(client_credentials_manager=SpotifyClientCredentials(client_id=client_id, client_secret=client_secret))"
   ]
  },
  {
   "cell_type": "code",
   "execution_count": 2,
   "metadata": {},
   "outputs": [
    {
     "name": "stderr",
     "output_type": "stream",
     "text": [
      "HTTP Error for GET to https://api.spotify.com/v1/playlists/5u0OeYCmhBKmD1pQOUNLKM with Params: {'fields': None, 'market': None, 'additional_types': 'track'} returned 404 due to Not found.\n"
     ]
    },
    {
     "ename": "SpotifyException",
     "evalue": "http status: 404, code:-1 - https://api.spotify.com/v1/playlists/5u0OeYCmhBKmD1pQOUNLKM?additional_types=track:\n Not found., reason: None",
     "output_type": "error",
     "traceback": [
      "\u001b[1;31m---------------------------------------------------------------------------\u001b[0m",
      "\u001b[1;31mHTTPError\u001b[0m                                 Traceback (most recent call last)",
      "File \u001b[1;32mz:\\Anaconda\\lib\\site-packages\\spotipy\\client.py:269\u001b[0m, in \u001b[0;36mSpotify._internal_call\u001b[1;34m(self, method, url, payload, params)\u001b[0m\n\u001b[0;32m    264\u001b[0m response \u001b[39m=\u001b[39m \u001b[39mself\u001b[39m\u001b[39m.\u001b[39m_session\u001b[39m.\u001b[39mrequest(\n\u001b[0;32m    265\u001b[0m     method, url, headers\u001b[39m=\u001b[39mheaders, proxies\u001b[39m=\u001b[39m\u001b[39mself\u001b[39m\u001b[39m.\u001b[39mproxies,\n\u001b[0;32m    266\u001b[0m     timeout\u001b[39m=\u001b[39m\u001b[39mself\u001b[39m\u001b[39m.\u001b[39mrequests_timeout, \u001b[39m*\u001b[39m\u001b[39m*\u001b[39margs\n\u001b[0;32m    267\u001b[0m )\n\u001b[1;32m--> 269\u001b[0m response\u001b[39m.\u001b[39;49mraise_for_status()\n\u001b[0;32m    270\u001b[0m results \u001b[39m=\u001b[39m response\u001b[39m.\u001b[39mjson()\n",
      "File \u001b[1;32mz:\\Anaconda\\lib\\site-packages\\requests\\models.py:1021\u001b[0m, in \u001b[0;36mResponse.raise_for_status\u001b[1;34m(self)\u001b[0m\n\u001b[0;32m   1020\u001b[0m \u001b[39mif\u001b[39;00m http_error_msg:\n\u001b[1;32m-> 1021\u001b[0m     \u001b[39mraise\u001b[39;00m HTTPError(http_error_msg, response\u001b[39m=\u001b[39m\u001b[39mself\u001b[39m)\n",
      "\u001b[1;31mHTTPError\u001b[0m: 404 Client Error: Not Found for url: https://api.spotify.com/v1/playlists/5u0OeYCmhBKmD1pQOUNLKM?additional_types=track",
      "\nDuring handling of the above exception, another exception occurred:\n",
      "\u001b[1;31mSpotifyException\u001b[0m                          Traceback (most recent call last)",
      "\u001b[1;32mz:\\Spotify Project\\Testing\\get_playlist.ipynb Cell 2\u001b[0m in \u001b[0;36m<cell line: 2>\u001b[1;34m()\u001b[0m\n\u001b[0;32m      <a href='vscode-notebook-cell:/z%3A/Spotify%20Project/Testing/get_playlist.ipynb#W1sZmlsZQ%3D%3D?line=0'>1</a>\u001b[0m \u001b[39mid\u001b[39m \u001b[39m=\u001b[39m \u001b[39m\"\u001b[39m\u001b[39m5u0OeYCmhBKmD1pQOUNLKM\u001b[39m\u001b[39m\"\u001b[39m\n\u001b[1;32m----> <a href='vscode-notebook-cell:/z%3A/Spotify%20Project/Testing/get_playlist.ipynb#W1sZmlsZQ%3D%3D?line=1'>2</a>\u001b[0m playlist \u001b[39m=\u001b[39m spotify\u001b[39m.\u001b[39;49mplaylist(\u001b[39m\"\u001b[39;49m\u001b[39m5u0OeYCmhBKmD1pQOUNLKM\u001b[39;49m\u001b[39m\"\u001b[39;49m)\n\u001b[0;32m      <a href='vscode-notebook-cell:/z%3A/Spotify%20Project/Testing/get_playlist.ipynb#W1sZmlsZQ%3D%3D?line=2'>3</a>\u001b[0m \u001b[39mprint\u001b[39m(playlist)\n",
      "File \u001b[1;32mz:\\Anaconda\\lib\\site-packages\\spotipy\\client.py:649\u001b[0m, in \u001b[0;36mSpotify.playlist\u001b[1;34m(self, playlist_id, fields, market, additional_types)\u001b[0m\n\u001b[0;32m    638\u001b[0m \u001b[39m\"\"\" Gets playlist by id.\u001b[39;00m\n\u001b[0;32m    639\u001b[0m \n\u001b[0;32m    640\u001b[0m \u001b[39m    Parameters:\u001b[39;00m\n\u001b[1;32m   (...)\u001b[0m\n\u001b[0;32m    646\u001b[0m \u001b[39m                             valid types are: track and episode\u001b[39;00m\n\u001b[0;32m    647\u001b[0m \u001b[39m\"\"\"\u001b[39;00m\n\u001b[0;32m    648\u001b[0m plid \u001b[39m=\u001b[39m \u001b[39mself\u001b[39m\u001b[39m.\u001b[39m_get_id(\u001b[39m\"\u001b[39m\u001b[39mplaylist\u001b[39m\u001b[39m\"\u001b[39m, playlist_id)\n\u001b[1;32m--> 649\u001b[0m \u001b[39mreturn\u001b[39;00m \u001b[39mself\u001b[39;49m\u001b[39m.\u001b[39;49m_get(\n\u001b[0;32m    650\u001b[0m     \u001b[39m\"\u001b[39;49m\u001b[39mplaylists/\u001b[39;49m\u001b[39m%s\u001b[39;49;00m\u001b[39m\"\u001b[39;49m \u001b[39m%\u001b[39;49m (plid),\n\u001b[0;32m    651\u001b[0m     fields\u001b[39m=\u001b[39;49mfields,\n\u001b[0;32m    652\u001b[0m     market\u001b[39m=\u001b[39;49mmarket,\n\u001b[0;32m    653\u001b[0m     additional_types\u001b[39m=\u001b[39;49m\u001b[39m\"\u001b[39;49m\u001b[39m,\u001b[39;49m\u001b[39m\"\u001b[39;49m\u001b[39m.\u001b[39;49mjoin(additional_types),\n\u001b[0;32m    654\u001b[0m )\n",
      "File \u001b[1;32mz:\\Anaconda\\lib\\site-packages\\spotipy\\client.py:321\u001b[0m, in \u001b[0;36mSpotify._get\u001b[1;34m(self, url, args, payload, **kwargs)\u001b[0m\n\u001b[0;32m    318\u001b[0m \u001b[39mif\u001b[39;00m args:\n\u001b[0;32m    319\u001b[0m     kwargs\u001b[39m.\u001b[39mupdate(args)\n\u001b[1;32m--> 321\u001b[0m \u001b[39mreturn\u001b[39;00m \u001b[39mself\u001b[39;49m\u001b[39m.\u001b[39;49m_internal_call(\u001b[39m\"\u001b[39;49m\u001b[39mGET\u001b[39;49m\u001b[39m\"\u001b[39;49m, url, payload, kwargs)\n",
      "File \u001b[1;32mz:\\Anaconda\\lib\\site-packages\\spotipy\\client.py:291\u001b[0m, in \u001b[0;36mSpotify._internal_call\u001b[1;34m(self, method, url, payload, params)\u001b[0m\n\u001b[0;32m    284\u001b[0m         reason \u001b[39m=\u001b[39m \u001b[39mNone\u001b[39;00m\n\u001b[0;32m    286\u001b[0m     logger\u001b[39m.\u001b[39merror(\n\u001b[0;32m    287\u001b[0m         \u001b[39m'\u001b[39m\u001b[39mHTTP Error for \u001b[39m\u001b[39m%s\u001b[39;00m\u001b[39m to \u001b[39m\u001b[39m%s\u001b[39;00m\u001b[39m with Params: \u001b[39m\u001b[39m%s\u001b[39;00m\u001b[39m returned \u001b[39m\u001b[39m%s\u001b[39;00m\u001b[39m due to \u001b[39m\u001b[39m%s\u001b[39;00m\u001b[39m'\u001b[39m,\n\u001b[0;32m    288\u001b[0m         method, url, args\u001b[39m.\u001b[39mget(\u001b[39m\"\u001b[39m\u001b[39mparams\u001b[39m\u001b[39m\"\u001b[39m), response\u001b[39m.\u001b[39mstatus_code, msg\n\u001b[0;32m    289\u001b[0m     )\n\u001b[1;32m--> 291\u001b[0m     \u001b[39mraise\u001b[39;00m SpotifyException(\n\u001b[0;32m    292\u001b[0m         response\u001b[39m.\u001b[39mstatus_code,\n\u001b[0;32m    293\u001b[0m         \u001b[39m-\u001b[39m\u001b[39m1\u001b[39m,\n\u001b[0;32m    294\u001b[0m         \u001b[39m\"\u001b[39m\u001b[39m%s\u001b[39;00m\u001b[39m:\u001b[39m\u001b[39m\\n\u001b[39;00m\u001b[39m \u001b[39m\u001b[39m%s\u001b[39;00m\u001b[39m\"\u001b[39m \u001b[39m%\u001b[39m (response\u001b[39m.\u001b[39murl, msg),\n\u001b[0;32m    295\u001b[0m         reason\u001b[39m=\u001b[39mreason,\n\u001b[0;32m    296\u001b[0m         headers\u001b[39m=\u001b[39mresponse\u001b[39m.\u001b[39mheaders,\n\u001b[0;32m    297\u001b[0m     )\n\u001b[0;32m    298\u001b[0m \u001b[39mexcept\u001b[39;00m requests\u001b[39m.\u001b[39mexceptions\u001b[39m.\u001b[39mRetryError \u001b[39mas\u001b[39;00m retry_error:\n\u001b[0;32m    299\u001b[0m     request \u001b[39m=\u001b[39m retry_error\u001b[39m.\u001b[39mrequest\n",
      "\u001b[1;31mSpotifyException\u001b[0m: http status: 404, code:-1 - https://api.spotify.com/v1/playlists/5u0OeYCmhBKmD1pQOUNLKM?additional_types=track:\n Not found., reason: None"
     ]
    }
   ],
   "source": [
    "id = \"5u0OeYCmhBKmD1pQOUNLKM\"\n",
    "playlist = spotify.playlist(\"5u0OeYCmhBKmD1pQOUNLKM\")\n",
    "print(playlist)"
   ]
  }
 ],
 "metadata": {
  "kernelspec": {
   "display_name": "base",
   "language": "python",
   "name": "python3"
  },
  "language_info": {
   "codemirror_mode": {
    "name": "ipython",
    "version": 3
   },
   "file_extension": ".py",
   "mimetype": "text/x-python",
   "name": "python",
   "nbconvert_exporter": "python",
   "pygments_lexer": "ipython3",
   "version": "3.9.12"
  },
  "orig_nbformat": 4
 },
 "nbformat": 4,
 "nbformat_minor": 2
}
