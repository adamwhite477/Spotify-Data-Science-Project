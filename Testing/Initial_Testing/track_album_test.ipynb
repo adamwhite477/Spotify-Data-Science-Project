{
 "cells": [
  {
   "cell_type": "code",
   "execution_count": null,
   "metadata": {},
   "outputs": [],
   "source": [
    "import spotipy\n",
    "import pandas as pd\n",
    "from spotipy.oauth2 import SpotifyClientCredentials\n",
    "import json\n",
    "\n",
    "with open(\"credentials.json\") as infile:\n",
    "        auth = json.load(infile)\n",
    "        client_id = auth[\"client_id\"]\n",
    "        client_secret = auth[\"client_secret\"]\n",
    "\n",
    "spotify = spotipy.Spotify(client_credentials_manager=SpotifyClientCredentials(client_id=client_id, client_secret=client_secret))"
   ]
  }
 ],
 "metadata": {
  "language_info": {
   "name": "python"
  },
  "orig_nbformat": 4
 },
 "nbformat": 4,
 "nbformat_minor": 2
}
