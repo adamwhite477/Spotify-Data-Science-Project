{
 "cells": [
  {
   "cell_type": "code",
   "execution_count": 4,
   "metadata": {},
   "outputs": [
    {
     "ename": "ValueError",
     "evalue": "not enough values to unpack (expected 3, got 2)",
     "output_type": "error",
     "traceback": [
      "\u001b[0;31m---------------------------------------------------------------------------\u001b[0m",
      "\u001b[0;31mValueError\u001b[0m                                Traceback (most recent call last)",
      "\u001b[1;32m/home/awhite8/Desktop/SpotifyProject/Spotify-Data-Science-Project/test_model.ipynb Cell 1\u001b[0m in \u001b[0;36m<cell line: 11>\u001b[0;34m()\u001b[0m\n\u001b[1;32m      <a href='vscode-notebook-cell:/home/awhite8/Desktop/SpotifyProject/Spotify-Data-Science-Project/test_model.ipynb#W0sZmlsZQ%3D%3D?line=6'>7</a>\u001b[0m model \u001b[39m=\u001b[39m load_learner(\u001b[39m\"\u001b[39m\u001b[39mmodel2.pkl\u001b[39m\u001b[39m\"\u001b[39m)\n\u001b[1;32m      <a href='vscode-notebook-cell:/home/awhite8/Desktop/SpotifyProject/Spotify-Data-Science-Project/test_model.ipynb#W0sZmlsZQ%3D%3D?line=8'>9</a>\u001b[0m interp \u001b[39m=\u001b[39m ClassificationInterpretation\u001b[39m.\u001b[39mfrom_learner(model)\n\u001b[0;32m---> <a href='vscode-notebook-cell:/home/awhite8/Desktop/SpotifyProject/Spotify-Data-Science-Project/test_model.ipynb#W0sZmlsZQ%3D%3D?line=10'>11</a>\u001b[0m interp\u001b[39m.\u001b[39;49mplot_confusion_matrix()\n",
      "File \u001b[0;32m~/.local/lib/python3.8/site-packages/fastai/interpret.py:130\u001b[0m, in \u001b[0;36mClassificationInterpretation.plot_confusion_matrix\u001b[0;34m(self, normalize, title, cmap, norm_dec, plot_txt, **kwargs)\u001b[0m\n\u001b[1;32m    128\u001b[0m \u001b[39m\"\u001b[39m\u001b[39mPlot the confusion matrix, with `title` and using `cmap`.\u001b[39m\u001b[39m\"\u001b[39m\n\u001b[1;32m    129\u001b[0m \u001b[39m# This function is mainly copied from the sklearn docs\u001b[39;00m\n\u001b[0;32m--> 130\u001b[0m cm \u001b[39m=\u001b[39m \u001b[39mself\u001b[39;49m\u001b[39m.\u001b[39;49mconfusion_matrix()\n\u001b[1;32m    131\u001b[0m \u001b[39mif\u001b[39;00m normalize: cm \u001b[39m=\u001b[39m cm\u001b[39m.\u001b[39mastype(\u001b[39m'\u001b[39m\u001b[39mfloat\u001b[39m\u001b[39m'\u001b[39m) \u001b[39m/\u001b[39m cm\u001b[39m.\u001b[39msum(axis\u001b[39m=\u001b[39m\u001b[39m1\u001b[39m)[:, np\u001b[39m.\u001b[39mnewaxis]\n\u001b[1;32m    132\u001b[0m fig \u001b[39m=\u001b[39m plt\u001b[39m.\u001b[39mfigure(\u001b[39m*\u001b[39m\u001b[39m*\u001b[39mkwargs)\n",
      "File \u001b[0;32m~/.local/lib/python3.8/site-packages/fastai/interpret.py:114\u001b[0m, in \u001b[0;36mClassificationInterpretation.confusion_matrix\u001b[0;34m(self)\u001b[0m\n\u001b[1;32m    112\u001b[0m \u001b[39m\"\u001b[39m\u001b[39mConfusion matrix as an `np.ndarray`.\u001b[39m\u001b[39m\"\u001b[39m\n\u001b[1;32m    113\u001b[0m x \u001b[39m=\u001b[39m torch\u001b[39m.\u001b[39marange(\u001b[39m0\u001b[39m, \u001b[39mlen\u001b[39m(\u001b[39mself\u001b[39m\u001b[39m.\u001b[39mvocab))\n\u001b[0;32m--> 114\u001b[0m _,targs,decoded \u001b[39m=\u001b[39m \u001b[39mself\u001b[39m\u001b[39m.\u001b[39mlearn\u001b[39m.\u001b[39mget_preds(dl\u001b[39m=\u001b[39m\u001b[39mself\u001b[39m\u001b[39m.\u001b[39mdl, with_decoded\u001b[39m=\u001b[39m\u001b[39mTrue\u001b[39;00m, with_preds\u001b[39m=\u001b[39m\u001b[39mTrue\u001b[39;00m, \n\u001b[1;32m    115\u001b[0m                                        with_targs\u001b[39m=\u001b[39m\u001b[39mTrue\u001b[39;00m, act\u001b[39m=\u001b[39m\u001b[39mself\u001b[39m\u001b[39m.\u001b[39mact)\n\u001b[1;32m    116\u001b[0m d,t \u001b[39m=\u001b[39m flatten_check(decoded, targs)\n\u001b[1;32m    117\u001b[0m cm \u001b[39m=\u001b[39m ((d\u001b[39m==\u001b[39mx[:,\u001b[39mNone\u001b[39;00m]) \u001b[39m&\u001b[39m (t\u001b[39m==\u001b[39mx[:,\u001b[39mNone\u001b[39;00m,\u001b[39mNone\u001b[39;00m]))\u001b[39m.\u001b[39mlong()\u001b[39m.\u001b[39msum(\u001b[39m2\u001b[39m)\n",
      "\u001b[0;31mValueError\u001b[0m: not enough values to unpack (expected 3, got 2)"
     ]
    }
   ],
   "source": [
    "from fastai.vision.all import *\n",
    "import pathlib\n",
    "import platform\n",
    "plt = platform.system()\n",
    "if plt == 'Linux': \n",
    "    pathlib.WindowsPath = pathlib.PosixPath\n",
    "model = load_learner(\"model2.pkl\")\n",
    "\n",
    "interp = ClassificationInterpretation.from_learner(model)\n",
    "\n",
    "interp.plot_confusion_matrix()"
   ]
  }
 ],
 "metadata": {
  "kernelspec": {
   "display_name": "base",
   "language": "python",
   "name": "python3"
  },
  "language_info": {
   "codemirror_mode": {
    "name": "ipython",
    "version": 3
   },
   "file_extension": ".py",
   "mimetype": "text/x-python",
   "name": "python",
   "nbconvert_exporter": "python",
   "pygments_lexer": "ipython3",
   "version": "3.8.10"
  },
  "orig_nbformat": 4
 },
 "nbformat": 4,
 "nbformat_minor": 2
}
